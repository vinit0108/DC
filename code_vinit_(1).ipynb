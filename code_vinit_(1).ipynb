{
  "nbformat": 4,
  "nbformat_minor": 0,
  "metadata": {
    "kernelspec": {
      "language": "python",
      "display_name": "Python 3",
      "name": "python3"
    },
    "language_info": {
      "name": "python",
      "version": "3.7.10",
      "mimetype": "text/x-python",
      "codemirror_mode": {
        "name": "ipython",
        "version": 3
      },
      "pygments_lexer": "ipython3",
      "nbconvert_exporter": "python",
      "file_extension": ".py"
    },
    "colab": {
      "name": "code-vinit (1).ipynb",
      "provenance": []
    }
  },
  "cells": [
    {
      "cell_type": "markdown",
      "metadata": {
        "_uuid": "8f2839f25d086af736a60e9eeb907d3b93b6e0e5",
        "_cell_guid": "b1076dfc-b9ad-4769-8c92-a6c4dae69d19",
        "execution": {
          "iopub.status.busy": "2021-11-03T00:03:55.487077Z",
          "iopub.execute_input": "2021-11-03T00:03:55.487463Z",
          "iopub.status.idle": "2021-11-03T00:03:55.492198Z",
          "shell.execute_reply.started": "2021-11-03T00:03:55.487433Z",
          "shell.execute_reply": "2021-11-03T00:03:55.491356Z"
        },
        "id": "4HFjw9z2wvUu"
      },
      "source": [
        "## NOTE - I have made an assumption that the clients won't churn for a small change in discount percentage, i.e."
      ]
    },
    {
      "cell_type": "code",
      "metadata": {
        "execution": {
          "iopub.status.busy": "2021-11-03T12:05:53.704279Z",
          "iopub.execute_input": "2021-11-03T12:05:53.705064Z",
          "iopub.status.idle": "2021-11-03T12:05:54.920958Z",
          "shell.execute_reply.started": "2021-11-03T12:05:53.705025Z",
          "shell.execute_reply": "2021-11-03T12:05:54.919947Z"
        },
        "trusted": true,
        "id": "J3TwdIL-wvUv"
      },
      "source": [
        "### Importing all the requried libraries\n",
        "import pandas as pd\n",
        "import numpy as np\n",
        "import matplotlib.pyplot as plt\n",
        "import seaborn as sns\n",
        "import pandas as pd\n",
        "import numpy as  np\n",
        "from sklearn.model_selection import train_test_split\n",
        "from sklearn.model_selection import KFold\n",
        "from sklearn.model_selection import StratifiedKFold\n",
        "\n",
        "import matplotlib.pyplot as plt"
      ],
      "execution_count": 35,
      "outputs": []
    },
    {
      "cell_type": "code",
      "metadata": {
        "execution": {
          "iopub.status.busy": "2021-11-03T12:05:54.922632Z",
          "iopub.execute_input": "2021-11-03T12:05:54.922848Z",
          "iopub.status.idle": "2021-11-03T12:05:55.112147Z",
          "shell.execute_reply.started": "2021-11-03T12:05:54.922820Z",
          "shell.execute_reply": "2021-11-03T12:05:55.111091Z"
        },
        "trusted": true,
        "colab": {
          "base_uri": "https://localhost:8080/",
          "height": 204
        },
        "id": "2cjzrnYLwvUw",
        "outputId": "8e98dba1-ff86-4e89-f903-68fe51fba231"
      },
      "source": [
        "df = pd.read_csv('/content/IBM - IBM_CAO_data_challenge_DS_2021_.csv')\n",
        "\n",
        "\n",
        "df.head()"
      ],
      "execution_count": 36,
      "outputs": [
        {
          "output_type": "execute_result",
          "data": {
            "text/html": [
              "<div>\n",
              "<style scoped>\n",
              "    .dataframe tbody tr th:only-of-type {\n",
              "        vertical-align: middle;\n",
              "    }\n",
              "\n",
              "    .dataframe tbody tr th {\n",
              "        vertical-align: top;\n",
              "    }\n",
              "\n",
              "    .dataframe thead th {\n",
              "        text-align: right;\n",
              "    }\n",
              "</style>\n",
              "<table border=\"1\" class=\"dataframe\">\n",
              "  <thead>\n",
              "    <tr style=\"text-align: right;\">\n",
              "      <th></th>\n",
              "      <th>ORDER_ID</th>\n",
              "      <th>PROD_ID</th>\n",
              "      <th>PROD_CAT</th>\n",
              "      <th>PRICE_ORIG</th>\n",
              "      <th>PRICE_DISC</th>\n",
              "      <th>CLIENT_ID</th>\n",
              "      <th>INDUSTRY</th>\n",
              "      <th>SIZE</th>\n",
              "      <th>STATE</th>\n",
              "    </tr>\n",
              "  </thead>\n",
              "  <tbody>\n",
              "    <tr>\n",
              "      <th>0</th>\n",
              "      <td>DS100049976</td>\n",
              "      <td>77563</td>\n",
              "      <td>SW</td>\n",
              "      <td>6882</td>\n",
              "      <td>3303.36</td>\n",
              "      <td>9228913</td>\n",
              "      <td>IT</td>\n",
              "      <td>20-99</td>\n",
              "      <td>NY</td>\n",
              "    </tr>\n",
              "    <tr>\n",
              "      <th>1</th>\n",
              "      <td>DS100049976</td>\n",
              "      <td>19692</td>\n",
              "      <td>SW</td>\n",
              "      <td>4744</td>\n",
              "      <td>2277.12</td>\n",
              "      <td>9228913</td>\n",
              "      <td>IT</td>\n",
              "      <td>20-99</td>\n",
              "      <td>NY</td>\n",
              "    </tr>\n",
              "    <tr>\n",
              "      <th>2</th>\n",
              "      <td>DS100049976</td>\n",
              "      <td>51090</td>\n",
              "      <td>SW</td>\n",
              "      <td>7725</td>\n",
              "      <td>3708.00</td>\n",
              "      <td>9228913</td>\n",
              "      <td>IT</td>\n",
              "      <td>20-99</td>\n",
              "      <td>NY</td>\n",
              "    </tr>\n",
              "    <tr>\n",
              "      <th>3</th>\n",
              "      <td>DS100049976</td>\n",
              "      <td>94654</td>\n",
              "      <td>SAAS</td>\n",
              "      <td>138</td>\n",
              "      <td>66.24</td>\n",
              "      <td>9228913</td>\n",
              "      <td>IT</td>\n",
              "      <td>20-99</td>\n",
              "      <td>NY</td>\n",
              "    </tr>\n",
              "    <tr>\n",
              "      <th>4</th>\n",
              "      <td>DS100049976</td>\n",
              "      <td>77969</td>\n",
              "      <td>SAAS</td>\n",
              "      <td>96</td>\n",
              "      <td>46.08</td>\n",
              "      <td>9228913</td>\n",
              "      <td>IT</td>\n",
              "      <td>20-99</td>\n",
              "      <td>NY</td>\n",
              "    </tr>\n",
              "  </tbody>\n",
              "</table>\n",
              "</div>"
            ],
            "text/plain": [
              "      ORDER_ID  PROD_ID PROD_CAT  PRICE_ORIG  ...  CLIENT_ID  INDUSTRY   SIZE STATE\n",
              "0  DS100049976    77563       SW        6882  ...    9228913        IT  20-99    NY\n",
              "1  DS100049976    19692       SW        4744  ...    9228913        IT  20-99    NY\n",
              "2  DS100049976    51090       SW        7725  ...    9228913        IT  20-99    NY\n",
              "3  DS100049976    94654     SAAS         138  ...    9228913        IT  20-99    NY\n",
              "4  DS100049976    77969     SAAS          96  ...    9228913        IT  20-99    NY\n",
              "\n",
              "[5 rows x 9 columns]"
            ]
          },
          "metadata": {},
          "execution_count": 36
        }
      ]
    },
    {
      "cell_type": "markdown",
      "metadata": {
        "id": "0_8J8cGDwvUw"
      },
      "source": [
        "## 1a Across all orders, which pair of product categories appears the most? (For example, SS and HW)\n"
      ]
    },
    {
      "cell_type": "code",
      "metadata": {
        "execution": {
          "iopub.status.busy": "2021-11-03T12:05:58.600582Z",
          "iopub.execute_input": "2021-11-03T12:05:58.600856Z",
          "iopub.status.idle": "2021-11-03T12:05:58.886620Z",
          "shell.execute_reply.started": "2021-11-03T12:05:58.600827Z",
          "shell.execute_reply": "2021-11-03T12:05:58.885738Z"
        },
        "trusted": true,
        "colab": {
          "base_uri": "https://localhost:8080/"
        },
        "id": "057iCr1mwvUw",
        "outputId": "a705cfb7-4fa5-4aa2-df10-9284a53feae1"
      },
      "source": [
        "# Method 1 \n",
        "## getting all the order pairs from the data frame \n",
        "from itertools import combinations\n",
        "cats=df.groupby('ORDER_ID')['PROD_CAT']\\\n",
        "    .agg(list)\\\n",
        "    .apply(lambda x:list(combinations(set(x),2)))\\\n",
        "    .explode()\n",
        "\n",
        "cats.value_counts()\n"
      ],
      "execution_count": 37,
      "outputs": [
        {
          "output_type": "execute_result",
          "data": {
            "text/plain": [
              "(SW, HW)      5000\n",
              "(SW, SAAS)    4735\n",
              "(SAAS, HW)    3851\n",
              "(SW, SS)      1420\n",
              "(HW, SAAS)    1360\n",
              "(SAAS, SW)     913\n",
              "(HW, SW)       895\n",
              "(SAAS, SS)     655\n",
              "(HW, SS)       533\n",
              "(SS, HW)        47\n",
              "(SS, SAAS)      27\n",
              "(SS, SW)        20\n",
              "Name: PROD_CAT, dtype: int64"
            ]
          },
          "metadata": {},
          "execution_count": 37
        }
      ]
    },
    {
      "cell_type": "code",
      "metadata": {
        "execution": {
          "iopub.status.busy": "2021-11-03T12:05:59.709918Z",
          "iopub.execute_input": "2021-11-03T12:05:59.710937Z",
          "iopub.status.idle": "2021-11-03T12:05:59.915326Z",
          "shell.execute_reply.started": "2021-11-03T12:05:59.710888Z",
          "shell.execute_reply": "2021-11-03T12:05:59.914447Z"
        },
        "trusted": true,
        "colab": {
          "base_uri": "https://localhost:8080/"
        },
        "id": "ldmlRu59wvUx",
        "outputId": "cc5f3ee6-b9e9-4458-ef7e-4b21fb11bf39"
      },
      "source": [
        "##Method 2\n",
        "ct = pd.crosstab(df['ORDER_ID'], df['PROD_CAT']).gt(0).astype(int)\n",
        "co_occur = (ct.T @ ct)\n",
        "\n",
        "\n",
        "counts = co_occur.where(np.tri(len(co_occur), k=-1, dtype=bool)).stack()\n",
        "\n",
        "counts.idxmax()"
      ],
      "execution_count": 38,
      "outputs": [
        {
          "output_type": "execute_result",
          "data": {
            "text/plain": [
              "('SW', 'HW')"
            ]
          },
          "metadata": {},
          "execution_count": 38
        }
      ]
    },
    {
      "cell_type": "markdown",
      "metadata": {
        "id": "swqu4znDwvUx"
      },
      "source": [
        "### (SW,HW) pair appears the most i.e. 5895 times "
      ]
    },
    {
      "cell_type": "markdown",
      "metadata": {
        "id": "o1-KCDoVwvUx"
      },
      "source": [
        "## 1 b For the pair identified in 1a, in what percent of orders does it appear?\t\t\t\t\t\t\n"
      ]
    },
    {
      "cell_type": "code",
      "metadata": {
        "execution": {
          "iopub.status.busy": "2021-11-03T12:06:10.009387Z",
          "iopub.execute_input": "2021-11-03T12:06:10.010120Z",
          "iopub.status.idle": "2021-11-03T12:06:10.025122Z",
          "shell.execute_reply.started": "2021-11-03T12:06:10.010059Z",
          "shell.execute_reply": "2021-11-03T12:06:10.024014Z"
        },
        "trusted": true,
        "colab": {
          "base_uri": "https://localhost:8080/"
        },
        "id": "5F8qqkEjwvUx",
        "outputId": "7aa2c2d1-bc8f-4dae-e6c5-8c22223a1f9b"
      },
      "source": [
        "## finding the percentage of SW and HW order pair in the orders \n",
        "order_Count = df[\"ORDER_ID\"].nunique()\n",
        "\n",
        "most_occuring = 5895\n",
        "\n",
        "quotient = most_occuring / order_Count\n",
        "\n",
        "percent = quotient * 100\n",
        "\n",
        "percent"
      ],
      "execution_count": 39,
      "outputs": [
        {
          "output_type": "execute_result",
          "data": {
            "text/plain": [
              "57.23300970873786"
            ]
          },
          "metadata": {},
          "execution_count": 39
        }
      ]
    },
    {
      "cell_type": "markdown",
      "metadata": {
        "id": "M_47lqjPwvUx"
      },
      "source": [
        "### (SW,HW) appears 57.23 % times in orders"
      ]
    },
    {
      "cell_type": "markdown",
      "metadata": {
        "id": "1Kl61ODBwvUx"
      },
      "source": [
        "## 2. How does the frequency of product pairs across orders vary by industry?\t\t\t\t\t\t\n"
      ]
    },
    {
      "cell_type": "code",
      "metadata": {
        "execution": {
          "iopub.status.busy": "2021-11-03T12:16:35.696692Z",
          "iopub.execute_input": "2021-11-03T12:16:35.697145Z",
          "iopub.status.idle": "2021-11-03T12:16:35.868595Z",
          "shell.execute_reply.started": "2021-11-03T12:16:35.697103Z",
          "shell.execute_reply": "2021-11-03T12:16:35.867814Z"
        },
        "trusted": true,
        "colab": {
          "base_uri": "https://localhost:8080/"
        },
        "id": "0zCnqDwswvUy",
        "outputId": "e9bc31f6-0157-49c8-b25e-a4b830490ec6"
      },
      "source": [
        "cats=df.groupby(['ORDER_ID','INDUSTRY'])['PROD_CAT']\\\n",
        ".agg(list)\\\n",
        ".apply(lambda x:list(combinations(set(x),2)))\\\n",
        ".explode()\n",
        "\n",
        "#print(cats)\n",
        "print(cats.groupby('INDUSTRY').value_counts())"
      ],
      "execution_count": 40,
      "outputs": [
        {
          "output_type": "stream",
          "name": "stdout",
          "text": [
            "INDUSTRY     PROD_CAT  \n",
            "FINANCE      (SW, HW)       847\n",
            "             (SW, SAAS)     762\n",
            "             (SAAS, HW)     623\n",
            "             (SW, SS)       427\n",
            "             (HW, SS)       199\n",
            "             (SAAS, SS)     195\n",
            "             (HW, SAAS)     186\n",
            "             (SAAS, SW)     137\n",
            "             (HW, SW)       133\n",
            "             (SS, HW)         6\n",
            "             (SS, SAAS)       4\n",
            "             (SS, SW)         2\n",
            "HEALTH CARE  (SW, HW)       645\n",
            "             (SW, SAAS)     584\n",
            "             (SAAS, HW)     482\n",
            "             (HW, SAAS)     176\n",
            "             (SW, SS)       174\n",
            "             (SAAS, SW)     114\n",
            "             (HW, SW)       112\n",
            "             (SAAS, SS)      92\n",
            "             (HW, SS)        76\n",
            "             (SS, HW)         4\n",
            "             (SS, SW)         3\n",
            "             (SS, SAAS)       1\n",
            "IT           (SW, HW)      2142\n",
            "             (SW, SAAS)    2093\n",
            "             (SAAS, HW)    1673\n",
            "             (HW, SAAS)     610\n",
            "             (SW, SS)       491\n",
            "             (SAAS, SW)     388\n",
            "             (HW, SW)       382\n",
            "             (SAAS, SS)     217\n",
            "             (HW, SS)       146\n",
            "             (SS, HW)        24\n",
            "             (SS, SAAS)      14\n",
            "             (SS, SW)        10\n",
            "REAL ESTATE  (SW, HW)       709\n",
            "             (SW, SAAS)     682\n",
            "             (SAAS, HW)     553\n",
            "             (HW, SAAS)     208\n",
            "             (SW, SS)       172\n",
            "             (SAAS, SW)     141\n",
            "             (HW, SW)       137\n",
            "             (SAAS, SS)      79\n",
            "             (HW, SS)        62\n",
            "             (SS, HW)         9\n",
            "             (SS, SAAS)       5\n",
            "             (SS, SW)         4\n",
            "RETAIL       (SW, HW)       657\n",
            "             (SW, SAAS)     614\n",
            "             (SAAS, HW)     520\n",
            "             (HW, SAAS)     180\n",
            "             (SW, SS)       156\n",
            "             (SAAS, SW)     133\n",
            "             (HW, SW)       131\n",
            "             (SAAS, SS)      72\n",
            "             (HW, SS)        50\n",
            "             (SS, HW)         4\n",
            "             (SS, SAAS)       3\n",
            "             (SS, SW)         1\n",
            "Name: PROD_CAT, dtype: int64\n"
          ]
        }
      ]
    },
    {
      "cell_type": "markdown",
      "metadata": {
        "id": "fvAgFF9nwvUy"
      },
      "source": [
        "### IT industry has highest frequency, followed by Finance and Real Estate industries. Healthcare and retail have lowest frequency of order pairs. \n"
      ]
    },
    {
      "cell_type": "markdown",
      "metadata": {
        "id": "UjsDcpbswvUy"
      },
      "source": [
        "## 3. What are the most significant drivers for discount?\n",
        "\n",
        "\n"
      ]
    },
    {
      "cell_type": "code",
      "metadata": {
        "execution": {
          "iopub.status.busy": "2021-11-03T12:06:25.481287Z",
          "iopub.execute_input": "2021-11-03T12:06:25.481878Z",
          "iopub.status.idle": "2021-11-03T12:06:25.487882Z",
          "shell.execute_reply.started": "2021-11-03T12:06:25.481836Z",
          "shell.execute_reply": "2021-11-03T12:06:25.487192Z"
        },
        "trusted": true,
        "id": "DUpOdj5zwvUy"
      },
      "source": [
        "df['Discount_Percentage'] = ((df['PRICE_ORIG'] - df['PRICE_DISC'])/ df['PRICE_ORIG']) * 100\n"
      ],
      "execution_count": 41,
      "outputs": []
    },
    {
      "cell_type": "code",
      "metadata": {
        "execution": {
          "iopub.status.busy": "2021-11-03T12:08:51.284061Z",
          "iopub.execute_input": "2021-11-03T12:08:51.284901Z",
          "iopub.status.idle": "2021-11-03T12:08:51.318125Z",
          "shell.execute_reply.started": "2021-11-03T12:08:51.284857Z",
          "shell.execute_reply": "2021-11-03T12:08:51.317263Z"
        },
        "trusted": true,
        "id": "S3XyNrukwvUy"
      },
      "source": [
        "from sklearn.preprocessing import LabelEncoder\n",
        "le=LabelEncoder()\n",
        "\n",
        "# label_encoder object knows how to understand word labels.\n",
        "## converting the Categorical column into numerical columns\n",
        " \n",
        "df['PROD_CAT']=le.fit_transform(df['PROD_CAT'])\n",
        "df['INDUSTRY']=le.fit_transform(df['INDUSTRY'])\n",
        "df['SIZE']=le.fit_transform(df['SIZE'])\n",
        "df['STATE']=le.fit_transform(df['STATE'])\n",
        "df['ORDER_ID']=le.fit_transform(df['ORDER_ID'])\n"
      ],
      "execution_count": 42,
      "outputs": []
    },
    {
      "cell_type": "code",
      "metadata": {
        "execution": {
          "iopub.status.busy": "2021-11-03T12:08:52.301244Z",
          "iopub.execute_input": "2021-11-03T12:08:52.301516Z",
          "iopub.status.idle": "2021-11-03T12:08:52.314022Z",
          "shell.execute_reply.started": "2021-11-03T12:08:52.301486Z",
          "shell.execute_reply": "2021-11-03T12:08:52.312892Z"
        },
        "trusted": true,
        "colab": {
          "base_uri": "https://localhost:8080/"
        },
        "id": "R1tx-lidwvUy",
        "outputId": "c107fee1-ca42-4670-d2e4-d3ec5381a134"
      },
      "source": [
        "df['ORDER_ID'].value_counts()"
      ],
      "execution_count": 43,
      "outputs": [
        {
          "output_type": "execute_result",
          "data": {
            "text/plain": [
              "6978    26\n",
              "9687    24\n",
              "5052    23\n",
              "2686    22\n",
              "541     22\n",
              "        ..\n",
              "5604     1\n",
              "2417     1\n",
              "7501     1\n",
              "9917     1\n",
              "8887     1\n",
              "Name: ORDER_ID, Length: 10300, dtype: int64"
            ]
          },
          "metadata": {},
          "execution_count": 43
        }
      ]
    },
    {
      "cell_type": "code",
      "metadata": {
        "execution": {
          "iopub.status.busy": "2021-11-03T12:08:56.679640Z",
          "iopub.execute_input": "2021-11-03T12:08:56.679960Z",
          "iopub.status.idle": "2021-11-03T12:08:57.683607Z",
          "shell.execute_reply.started": "2021-11-03T12:08:56.679925Z",
          "shell.execute_reply": "2021-11-03T12:08:57.682920Z"
        },
        "trusted": true,
        "colab": {
          "base_uri": "https://localhost:8080/",
          "height": 1000
        },
        "id": "x5wim6kXwvUz",
        "outputId": "749b3acb-aa63-4094-afba-76c9f43021eb"
      },
      "source": [
        "import seaborn as sns\n",
        "#Using Pearson Correlation\n",
        "plt.figure(figsize=(25,25))\n",
        "cor = df.corr()  # plot the heatmap on X\n",
        "sns.heatmap(cor, annot=True, cmap=plt.cm.CMRmap_r)\n",
        "plt.show()"
      ],
      "execution_count": 44,
      "outputs": [
        {
          "output_type": "display_data",
          "data": {
            "image/png": "[encoded data removed]",
            "text/plain": [
              "<Figure size 1800x1800 with 2 Axes>"
            ]
          },
          "metadata": {
            "needs_background": "light"
          }
        }
      ]
    },
    {
      "cell_type": "markdown",
      "metadata": {
        "id": "unG7vAypwvUz"
      },
      "source": [
        "### After performing Statistical Analysis (P-val and R-Squared)  and Correlation Analysis INDUSTRY, SIZE and PRODUCT type\n",
        "#### note - please check the file statistical analysis.ipynb for the statistical analysis"
      ]
    },
    {
      "cell_type": "markdown",
      "metadata": {
        "id": "h9k71FjvwvUz"
      },
      "source": [
        "## Recommendation to increase Revenue by adjusting discount"
      ]
    },
    {
      "cell_type": "markdown",
      "metadata": {
        "id": "q4693x62wvUz"
      },
      "source": [
        "### Finding the Total revenue\n"
      ]
    },
    {
      "cell_type": "code",
      "metadata": {
        "execution": {
          "iopub.status.busy": "2021-11-03T12:09:06.778617Z",
          "iopub.execute_input": "2021-11-03T12:09:06.779261Z",
          "iopub.status.idle": "2021-11-03T12:09:06.925488Z",
          "shell.execute_reply.started": "2021-11-03T12:09:06.779219Z",
          "shell.execute_reply": "2021-11-03T12:09:06.924802Z"
        },
        "trusted": true,
        "id": "Jm6ZJJeSwvUz"
      },
      "source": [
        "df = pd.read_csv('/content/IBM - IBM_CAO_data_challenge_DS_2021_.csv')\n",
        "\n",
        "df['Discount_Percentage'] = ((df['PRICE_ORIG'] - df['PRICE_DISC'])/ df['PRICE_ORIG']) * 100\n"
      ],
      "execution_count": 45,
      "outputs": []
    },
    {
      "cell_type": "code",
      "metadata": {
        "execution": {
          "iopub.status.busy": "2021-11-03T12:09:09.162355Z",
          "iopub.execute_input": "2021-11-03T12:09:09.162817Z",
          "iopub.status.idle": "2021-11-03T12:09:09.171572Z",
          "shell.execute_reply.started": "2021-11-03T12:09:09.162784Z",
          "shell.execute_reply": "2021-11-03T12:09:09.170684Z"
        },
        "trusted": true,
        "colab": {
          "base_uri": "https://localhost:8080/"
        },
        "id": "ECpiu89ywvU0",
        "outputId": "bc62ceb8-a08b-404f-a669-25e771be9ae1"
      },
      "source": [
        "Total_after_discount = df['PRICE_DISC'].sum()\n",
        "Total_after_discount\n",
        "\n",
        "# 562 million approx"
      ],
      "execution_count": 46,
      "outputs": [
        {
          "output_type": "execute_result",
          "data": {
            "text/plain": [
              "562670134.45"
            ]
          },
          "metadata": {},
          "execution_count": 46
        }
      ]
    },
    {
      "cell_type": "markdown",
      "metadata": {
        "id": "R8DuHHJ1wvU0"
      },
      "source": [
        "### Now finding revenue by INDUSTRY as it is the most important feature"
      ]
    },
    {
      "cell_type": "code",
      "metadata": {
        "execution": {
          "iopub.status.busy": "2021-11-03T10:44:57.651036Z",
          "iopub.execute_input": "2021-11-03T10:44:57.651328Z",
          "iopub.status.idle": "2021-11-03T10:44:57.670929Z",
          "shell.execute_reply.started": "2021-11-03T10:44:57.651297Z",
          "shell.execute_reply": "2021-11-03T10:44:57.670202Z"
        },
        "trusted": true,
        "colab": {
          "base_uri": "https://localhost:8080/"
        },
        "id": "rqTVUiZHwvU0",
        "outputId": "a7a82668-133d-4e4e-c321-dc3d16c8e0ed"
      },
      "source": [
        "IT_rev = df.loc[df['INDUSTRY'] == 'IT', 'PRICE_DISC'].sum()\n",
        "IT_rev\n",
        "\n",
        "## 222 Mill"
      ],
      "execution_count": 47,
      "outputs": [
        {
          "output_type": "execute_result",
          "data": {
            "text/plain": [
              "220879407.55999997"
            ]
          },
          "metadata": {},
          "execution_count": 47
        }
      ]
    },
    {
      "cell_type": "code",
      "metadata": {
        "execution": {
          "iopub.status.busy": "2021-11-03T10:44:58.917357Z",
          "iopub.execute_input": "2021-11-03T10:44:58.917819Z",
          "iopub.status.idle": "2021-11-03T10:44:58.936134Z",
          "shell.execute_reply.started": "2021-11-03T10:44:58.917784Z",
          "shell.execute_reply": "2021-11-03T10:44:58.935286Z"
        },
        "trusted": true,
        "colab": {
          "base_uri": "https://localhost:8080/"
        },
        "id": "8zSCKCLqwvU0",
        "outputId": "55a188a9-8262-4877-bad6-e6a84ed55553"
      },
      "source": [
        "Finance_rev = df.loc[df['INDUSTRY'] == 'FINANCE', 'PRICE_DISC'].sum()\n",
        "Finance_rev\n",
        "\n",
        "## 101 Mill\n"
      ],
      "execution_count": 48,
      "outputs": [
        {
          "output_type": "execute_result",
          "data": {
            "text/plain": [
              "101263795.14999999"
            ]
          },
          "metadata": {},
          "execution_count": 48
        }
      ]
    },
    {
      "cell_type": "code",
      "metadata": {
        "execution": {
          "iopub.status.busy": "2021-11-03T10:45:00.523293Z",
          "iopub.execute_input": "2021-11-03T10:45:00.523640Z",
          "iopub.status.idle": "2021-11-03T10:45:00.542714Z",
          "shell.execute_reply.started": "2021-11-03T10:45:00.523603Z",
          "shell.execute_reply": "2021-11-03T10:45:00.541415Z"
        },
        "trusted": true,
        "colab": {
          "base_uri": "https://localhost:8080/"
        },
        "id": "Kgm-KLl5wvU0",
        "outputId": "345aa116-9a39-4609-806a-2df7b6d2ce9a"
      },
      "source": [
        "REAL_rev = df.loc[df['INDUSTRY'] == 'REAL ESTATE', 'PRICE_DISC'].sum()\n",
        "REAL_rev\n",
        "\n",
        "## 90 Mill"
      ],
      "execution_count": 49,
      "outputs": [
        {
          "output_type": "execute_result",
          "data": {
            "text/plain": [
              "90744289.64000002"
            ]
          },
          "metadata": {},
          "execution_count": 49
        }
      ]
    },
    {
      "cell_type": "code",
      "metadata": {
        "execution": {
          "iopub.status.busy": "2021-11-03T10:45:01.521852Z",
          "iopub.execute_input": "2021-11-03T10:45:01.522785Z",
          "iopub.status.idle": "2021-11-03T10:45:01.540886Z",
          "shell.execute_reply.started": "2021-11-03T10:45:01.522726Z",
          "shell.execute_reply": "2021-11-03T10:45:01.540173Z"
        },
        "trusted": true,
        "colab": {
          "base_uri": "https://localhost:8080/"
        },
        "id": "zl1Bw4WewvU0",
        "outputId": "0d182517-1f09-49e1-b680-98691f25a213"
      },
      "source": [
        "RETAIL = df.loc[df['INDUSTRY'] == 'RETAIL', 'PRICE_DISC'].sum()\n",
        "RETAIL\n",
        "\n",
        "## 78 Mill"
      ],
      "execution_count": 50,
      "outputs": [
        {
          "output_type": "execute_result",
          "data": {
            "text/plain": [
              "78363488.43"
            ]
          },
          "metadata": {},
          "execution_count": 50
        }
      ]
    },
    {
      "cell_type": "code",
      "metadata": {
        "execution": {
          "iopub.status.busy": "2021-11-03T10:45:02.313626Z",
          "iopub.execute_input": "2021-11-03T10:45:02.314444Z",
          "iopub.status.idle": "2021-11-03T10:45:02.332601Z",
          "shell.execute_reply.started": "2021-11-03T10:45:02.314401Z",
          "shell.execute_reply": "2021-11-03T10:45:02.331537Z"
        },
        "trusted": true,
        "colab": {
          "base_uri": "https://localhost:8080/"
        },
        "id": "NYalvMKEwvU0",
        "outputId": "247dfea8-8928-491b-baa1-17637a14fe55"
      },
      "source": [
        "HEALTH_CARE = df.loc[df['INDUSTRY'] == 'HEALTH CARE', 'PRICE_DISC'].sum()\n",
        "HEALTH_CARE\n",
        "\n",
        "## 71 Mill"
      ],
      "execution_count": 51,
      "outputs": [
        {
          "output_type": "execute_result",
          "data": {
            "text/plain": [
              "71419153.67"
            ]
          },
          "metadata": {},
          "execution_count": 51
        }
      ]
    },
    {
      "cell_type": "code",
      "metadata": {
        "execution": {
          "iopub.status.busy": "2021-11-03T10:45:08.087944Z",
          "iopub.execute_input": "2021-11-03T10:45:08.088456Z",
          "iopub.status.idle": "2021-11-03T10:45:08.217509Z",
          "shell.execute_reply.started": "2021-11-03T10:45:08.088424Z",
          "shell.execute_reply": "2021-11-03T10:45:08.216461Z"
        },
        "trusted": true,
        "colab": {
          "base_uri": "https://localhost:8080/",
          "height": 264
        },
        "id": "Dlp2lbp5wvU1",
        "outputId": "b3c1009f-b401-47d1-ddb6-f77359151e06"
      },
      "source": [
        "\n",
        "mylabels = ['IT', 'Finance', 'Real Estate','Retail','Health Care']\n",
        "y = np.array([IT_rev,Finance_rev,REAL_rev,RETAIL,HEALTH_CARE])\n",
        "plt.pie(y, labels = mylabels,autopct='%1.1f%%')\n",
        "plt.title(\"Revenue distribution across industries\")\n",
        "plt.show() "
      ],
      "execution_count": 52,
      "outputs": [
        {
          "output_type": "display_data",
          "data": {
            "image/png": "[encoded data removed]",
            "text/plain": [
              "<Figure size 432x288 with 1 Axes>"
            ]
          },
          "metadata": {}
        }
      ]
    },
    {
      "cell_type": "code",
      "metadata": {
        "execution": {
          "iopub.status.busy": "2021-11-03T10:45:35.736495Z",
          "iopub.execute_input": "2021-11-03T10:45:35.737107Z",
          "iopub.status.idle": "2021-11-03T10:45:35.934172Z",
          "shell.execute_reply.started": "2021-11-03T10:45:35.737064Z",
          "shell.execute_reply": "2021-11-03T10:45:35.933171Z"
        },
        "trusted": true,
        "colab": {
          "base_uri": "https://localhost:8080/",
          "height": 352
        },
        "id": "BGIrj0jGwvU1",
        "outputId": "f7c90906-64d7-428b-9a1d-f7f770f41328"
      },
      "source": [
        "\n",
        "import matplotlib.pyplot as plt\n",
        "fig = plt.figure()\n",
        "ax = fig.add_axes([0,0,1,1])\n",
        "x = ['IT', 'Finance', 'Real Estate','Retail','Health Care']\n",
        "y = np.array([IT_rev,Finance_rev,REAL_rev,RETAIL,HEALTH_CARE])\n",
        "ax.bar(x,y)\n",
        "plt.title(\"Revenue distribution across industries\")\n",
        "plt.show()"
      ],
      "execution_count": 53,
      "outputs": [
        {
          "output_type": "display_data",
          "data": {
            "image/png": "[encoded data removed]",
            "text/plain": [
              "<Figure size 432x288 with 1 Axes>"
            ]
          },
          "metadata": {
            "needs_background": "light"
          }
        }
      ]
    },
    {
      "cell_type": "markdown",
      "metadata": {
        "id": "814xVA3QwvU1"
      },
      "source": [
        "#### As INDUSTRY is the most important feature to determine the discount, IT industry has the highest percentage share of total revenue that is 39.3% i.e. around 222 million. Reducing the discount percentage here will increase the revenue by a good amount\n",
        "\n",
        "#### Let's calculate the mean of discount percentage across all the industries"
      ]
    },
    {
      "cell_type": "code",
      "metadata": {
        "execution": {
          "iopub.status.busy": "2021-11-03T00:40:07.782243Z",
          "iopub.execute_input": "2021-11-03T00:40:07.782507Z",
          "iopub.status.idle": "2021-11-03T00:40:07.799972Z",
          "shell.execute_reply.started": "2021-11-03T00:40:07.782478Z",
          "shell.execute_reply": "2021-11-03T00:40:07.799243Z"
        },
        "trusted": true,
        "colab": {
          "base_uri": "https://localhost:8080/"
        },
        "id": "pgXPKo6AwvU1",
        "outputId": "fae82c7b-21af-4062-d328-370ff346d4be"
      },
      "source": [
        "IT_discount_mean = df.loc[df['INDUSTRY'] == 'IT', 'Discount_Percentage'].mean()\n",
        "IT_discount_mean"
      ],
      "execution_count": 54,
      "outputs": [
        {
          "output_type": "execute_result",
          "data": {
            "text/plain": [
              "41.65087965750217"
            ]
          },
          "metadata": {},
          "execution_count": 54
        }
      ]
    },
    {
      "cell_type": "code",
      "metadata": {
        "execution": {
          "iopub.status.busy": "2021-11-03T00:40:09.738499Z",
          "iopub.execute_input": "2021-11-03T00:40:09.738798Z",
          "iopub.status.idle": "2021-11-03T00:40:09.758446Z",
          "shell.execute_reply.started": "2021-11-03T00:40:09.738765Z",
          "shell.execute_reply": "2021-11-03T00:40:09.757148Z"
        },
        "trusted": true,
        "colab": {
          "base_uri": "https://localhost:8080/"
        },
        "id": "p0l6idSCwvU1",
        "outputId": "61834f4c-503b-424d-ae91-c10de2b72585"
      },
      "source": [
        "Finance_discount_mean = df.loc[df['INDUSTRY'] == 'FINANCE', 'Discount_Percentage'].mean()\n",
        "Finance_discount_mean"
      ],
      "execution_count": 55,
      "outputs": [
        {
          "output_type": "execute_result",
          "data": {
            "text/plain": [
              "16.602698948204008"
            ]
          },
          "metadata": {},
          "execution_count": 55
        }
      ]
    },
    {
      "cell_type": "code",
      "metadata": {
        "execution": {
          "iopub.status.busy": "2021-11-03T00:40:20.213157Z",
          "iopub.execute_input": "2021-11-03T00:40:20.213576Z",
          "iopub.status.idle": "2021-11-03T00:40:20.231161Z",
          "shell.execute_reply.started": "2021-11-03T00:40:20.213546Z",
          "shell.execute_reply": "2021-11-03T00:40:20.230050Z"
        },
        "trusted": true,
        "colab": {
          "base_uri": "https://localhost:8080/"
        },
        "id": "7IqK2WYxwvU1",
        "outputId": "b6f534da-7c42-4e24-da5f-57321ab226d9"
      },
      "source": [
        "REAL_ESTATE_discount_mean = df.loc[df['INDUSTRY'] == 'REAL ESTATE', 'Discount_Percentage'].mean()\n",
        "REAL_ESTATE_discount_mean\n"
      ],
      "execution_count": 56,
      "outputs": [
        {
          "output_type": "execute_result",
          "data": {
            "text/plain": [
              "28.099968857053877"
            ]
          },
          "metadata": {},
          "execution_count": 56
        }
      ]
    },
    {
      "cell_type": "code",
      "metadata": {
        "execution": {
          "iopub.status.busy": "2021-11-03T00:40:22.268150Z",
          "iopub.execute_input": "2021-11-03T00:40:22.268416Z",
          "iopub.status.idle": "2021-11-03T00:40:22.286394Z",
          "shell.execute_reply.started": "2021-11-03T00:40:22.268388Z",
          "shell.execute_reply": "2021-11-03T00:40:22.285453Z"
        },
        "trusted": true,
        "colab": {
          "base_uri": "https://localhost:8080/"
        },
        "id": "iMPI-6WAwvU1",
        "outputId": "31b6cdd3-a858-40c0-826a-e40aa0d95edc"
      },
      "source": [
        "RETAIL_discount_mean = df.loc[df['INDUSTRY'] == 'RETAIL', 'Discount_Percentage'].mean()\n",
        "RETAIL_discount_mean\n"
      ],
      "execution_count": 57,
      "outputs": [
        {
          "output_type": "execute_result",
          "data": {
            "text/plain": [
              "28.755550307038263"
            ]
          },
          "metadata": {},
          "execution_count": 57
        }
      ]
    },
    {
      "cell_type": "code",
      "metadata": {
        "execution": {
          "iopub.status.busy": "2021-11-03T00:40:24.150701Z",
          "iopub.execute_input": "2021-11-03T00:40:24.151643Z",
          "iopub.status.idle": "2021-11-03T00:40:24.170991Z",
          "shell.execute_reply.started": "2021-11-03T00:40:24.151587Z",
          "shell.execute_reply": "2021-11-03T00:40:24.170163Z"
        },
        "trusted": true,
        "colab": {
          "base_uri": "https://localhost:8080/"
        },
        "id": "LrUu2HnGwvU1",
        "outputId": "fc9265fc-7f02-4f48-8df0-c0bc5887a35a"
      },
      "source": [
        "Health_discount_mean = df.loc[df['INDUSTRY'] == 'HEALTH CARE', 'Discount_Percentage'].mean()\n",
        "Health_discount_mean"
      ],
      "execution_count": 58,
      "outputs": [
        {
          "output_type": "execute_result",
          "data": {
            "text/plain": [
              "27.337936425221468"
            ]
          },
          "metadata": {},
          "execution_count": 58
        }
      ]
    },
    {
      "cell_type": "code",
      "metadata": {
        "execution": {
          "iopub.status.busy": "2021-11-03T00:43:35.426849Z",
          "iopub.execute_input": "2021-11-03T00:43:35.427169Z",
          "iopub.status.idle": "2021-11-03T00:43:35.635524Z",
          "shell.execute_reply.started": "2021-11-03T00:43:35.427129Z",
          "shell.execute_reply": "2021-11-03T00:43:35.634632Z"
        },
        "trusted": true,
        "colab": {
          "base_uri": "https://localhost:8080/",
          "height": 352
        },
        "id": "zhOIuL1LwvU1",
        "outputId": "39a0865c-546d-464e-e40c-29a68f8004d2"
      },
      "source": [
        "\n",
        "import matplotlib.pyplot as plt\n",
        "fig = plt.figure()\n",
        "ax = fig.add_axes([0,0,1,1])\n",
        "x = ['IT', 'Finance', 'Real Estate','Retail','Health Care']\n",
        "y = np.array([IT_discount_mean,Finance_discount_mean,REAL_ESTATE_discount_mean,RETAIL_discount_mean,Health_discount_mean])\n",
        "ax.bar(x,y)\n",
        "plt.title(\"Discount percentage (Mean) distribution across industries\")\n",
        "\n",
        "plt.show()"
      ],
      "execution_count": 59,
      "outputs": [
        {
          "output_type": "display_data",
          "data": {
            "image/png": "[encoded data removed]",
            "text/plain": [
              "<Figure size 432x288 with 1 Axes>"
            ]
          },
          "metadata": {
            "needs_background": "light"
          }
        }
      ]
    },
    {
      "cell_type": "code",
      "metadata": {
        "execution": {
          "iopub.status.busy": "2021-11-03T00:54:01.049647Z",
          "iopub.execute_input": "2021-11-03T00:54:01.049927Z",
          "iopub.status.idle": "2021-11-03T00:54:01.069433Z",
          "shell.execute_reply.started": "2021-11-03T00:54:01.049899Z",
          "shell.execute_reply": "2021-11-03T00:54:01.068669Z"
        },
        "trusted": true,
        "colab": {
          "base_uri": "https://localhost:8080/"
        },
        "id": "lyFBro49wvU2",
        "outputId": "ae217852-4fc4-4e6b-b41f-7d1577100318"
      },
      "source": [
        "IT_pric_mean = df.loc[df['INDUSTRY'] == 'IT', 'PRICE_ORIG'].mean()\n",
        "IT_pric_mean\n",
        "## average price before discount is 13124.59"
      ],
      "execution_count": 60,
      "outputs": [
        {
          "output_type": "execute_result",
          "data": {
            "text/plain": [
              "13124.59716368988"
            ]
          },
          "metadata": {},
          "execution_count": 60
        }
      ]
    },
    {
      "cell_type": "code",
      "metadata": {
        "execution": {
          "iopub.status.busy": "2021-11-03T00:54:27.215669Z",
          "iopub.execute_input": "2021-11-03T00:54:27.216080Z",
          "iopub.status.idle": "2021-11-03T00:54:27.235168Z",
          "shell.execute_reply.started": "2021-11-03T00:54:27.216049Z",
          "shell.execute_reply": "2021-11-03T00:54:27.234167Z"
        },
        "trusted": true,
        "colab": {
          "base_uri": "https://localhost:8080/"
        },
        "id": "kHlIA4LHwvU2",
        "outputId": "222fa926-5efb-4567-b029-83072db8a84c"
      },
      "source": [
        "IT_pric_dis_mean = df.loc[df['INDUSTRY'] == 'IT', 'PRICE_DISC'].mean()\n",
        "IT_pric_dis_mean\n",
        "\n",
        "## average price after discount "
      ],
      "execution_count": 61,
      "outputs": [
        {
          "output_type": "execute_result",
          "data": {
            "text/plain": [
              "7387.765320757164"
            ]
          },
          "metadata": {},
          "execution_count": 61
        }
      ]
    },
    {
      "cell_type": "code",
      "metadata": {
        "id": "Do20uf-_wvU2"
      },
      "source": [
        "## suppose if we consider average discount percentage to be 35 % instead of 41 %, \n",
        "#The average price after discount will be 8530 compared to earlier 7387\n"
      ],
      "execution_count": 62,
      "outputs": []
    },
    {
      "cell_type": "markdown",
      "metadata": {
        "id": "0Myq4hjuwvU2"
      },
      "source": [
        "#### Hence, IT Industry has the highest discount percentage of 41.65. As IT has both highest revenue and discount, reducing discount in this will increase the revenue."
      ]
    },
    {
      "cell_type": "markdown",
      "metadata": {
        "id": "xGeNP7FHwvU2"
      },
      "source": [
        "#### The next important feature is Size, let's do revenue analysis on this."
      ]
    },
    {
      "cell_type": "code",
      "metadata": {
        "execution": {
          "iopub.status.busy": "2021-11-03T01:00:16.461335Z",
          "iopub.execute_input": "2021-11-03T01:00:16.461631Z",
          "iopub.status.idle": "2021-11-03T01:00:16.478137Z",
          "shell.execute_reply.started": "2021-11-03T01:00:16.461595Z",
          "shell.execute_reply": "2021-11-03T01:00:16.477281Z"
        },
        "trusted": true,
        "colab": {
          "base_uri": "https://localhost:8080/"
        },
        "id": "kBVOcxV-wvU2",
        "outputId": "87c5bd4f-1b54-4472-c4c7-b173b2012462"
      },
      "source": [
        "df['SIZE'].value_counts()"
      ],
      "execution_count": 63,
      "outputs": [
        {
          "output_type": "execute_result",
          "data": {
            "text/plain": [
              "0-19       29064\n",
              "20-99      18579\n",
              "100-499    14183\n",
              "500+        3927\n",
              "Name: SIZE, dtype: int64"
            ]
          },
          "metadata": {},
          "execution_count": 63
        }
      ]
    },
    {
      "cell_type": "code",
      "metadata": {
        "execution": {
          "iopub.status.busy": "2021-11-03T01:00:19.703235Z",
          "iopub.execute_input": "2021-11-03T01:00:19.703531Z",
          "iopub.status.idle": "2021-11-03T01:00:19.721398Z",
          "shell.execute_reply.started": "2021-11-03T01:00:19.703498Z",
          "shell.execute_reply": "2021-11-03T01:00:19.720626Z"
        },
        "trusted": true,
        "colab": {
          "base_uri": "https://localhost:8080/"
        },
        "id": "WutfS5tNwvU2",
        "outputId": "aec5d501-987c-42d5-cbb1-3cf3b157f71b"
      },
      "source": [
        "zero_19 = df.loc[df['SIZE'] == '0-19', 'PRICE_DISC'].sum()\n",
        "zero_19\n",
        "## 237 mill"
      ],
      "execution_count": 64,
      "outputs": [
        {
          "output_type": "execute_result",
          "data": {
            "text/plain": [
              "237620348.69"
            ]
          },
          "metadata": {},
          "execution_count": 64
        }
      ]
    },
    {
      "cell_type": "code",
      "metadata": {
        "execution": {
          "iopub.status.busy": "2021-11-03T01:00:21.536659Z",
          "iopub.execute_input": "2021-11-03T01:00:21.537493Z",
          "iopub.status.idle": "2021-11-03T01:00:21.554945Z",
          "shell.execute_reply.started": "2021-11-03T01:00:21.537448Z",
          "shell.execute_reply": "2021-11-03T01:00:21.554199Z"
        },
        "trusted": true,
        "colab": {
          "base_uri": "https://localhost:8080/"
        },
        "id": "zcno5P9kwvU2",
        "outputId": "cbc77cf5-1cbd-48c4-af71-e2159e56e261"
      },
      "source": [
        "twenty_99 = df.loc[df['SIZE'] == '20-99', 'PRICE_DISC'].sum()\n",
        "twenty_99\n",
        "\n",
        "## 161 mill"
      ],
      "execution_count": 65,
      "outputs": [
        {
          "output_type": "execute_result",
          "data": {
            "text/plain": [
              "161554111.67"
            ]
          },
          "metadata": {},
          "execution_count": 65
        }
      ]
    },
    {
      "cell_type": "code",
      "metadata": {
        "execution": {
          "iopub.status.busy": "2021-11-03T01:00:23.444848Z",
          "iopub.execute_input": "2021-11-03T01:00:23.445289Z",
          "iopub.status.idle": "2021-11-03T01:00:23.464751Z",
          "shell.execute_reply.started": "2021-11-03T01:00:23.445251Z",
          "shell.execute_reply": "2021-11-03T01:00:23.463821Z"
        },
        "trusted": true,
        "colab": {
          "base_uri": "https://localhost:8080/"
        },
        "id": "0fxFkE10wvU2",
        "outputId": "fa76974e-9ecf-441d-afee-f086f02f7884"
      },
      "source": [
        "Hundred_499 = df.loc[df['SIZE'] == '100-499', 'PRICE_DISC'].sum()\n",
        "Hundred_499\n",
        "\n",
        "## 127 mill"
      ],
      "execution_count": 66,
      "outputs": [
        {
          "output_type": "execute_result",
          "data": {
            "text/plain": [
              "127472132.73999998"
            ]
          },
          "metadata": {},
          "execution_count": 66
        }
      ]
    },
    {
      "cell_type": "code",
      "metadata": {
        "execution": {
          "iopub.status.busy": "2021-11-03T01:00:25.107750Z",
          "iopub.execute_input": "2021-11-03T01:00:25.108220Z",
          "iopub.status.idle": "2021-11-03T01:00:25.126707Z",
          "shell.execute_reply.started": "2021-11-03T01:00:25.108162Z",
          "shell.execute_reply": "2021-11-03T01:00:25.125730Z"
        },
        "trusted": true,
        "colab": {
          "base_uri": "https://localhost:8080/"
        },
        "id": "ox9dkLJmwvU2",
        "outputId": "8dabf124-42c9-470b-e81e-8c3bf002a6c8"
      },
      "source": [
        "Five_Plus = df.loc[df['SIZE'] == '500+', 'PRICE_DISC'].sum()\n",
        "Five_Plus\n",
        "\n",
        "## 36 mill"
      ],
      "execution_count": 67,
      "outputs": [
        {
          "output_type": "execute_result",
          "data": {
            "text/plain": [
              "36023541.349999994"
            ]
          },
          "metadata": {},
          "execution_count": 67
        }
      ]
    },
    {
      "cell_type": "code",
      "metadata": {
        "execution": {
          "iopub.status.busy": "2021-11-03T01:07:05.152440Z",
          "iopub.execute_input": "2021-11-03T01:07:05.152703Z",
          "iopub.status.idle": "2021-11-03T01:07:05.260006Z",
          "shell.execute_reply.started": "2021-11-03T01:07:05.152676Z",
          "shell.execute_reply": "2021-11-03T01:07:05.259158Z"
        },
        "trusted": true,
        "colab": {
          "base_uri": "https://localhost:8080/",
          "height": 264
        },
        "id": "4WC4l080wvU3",
        "outputId": "515acb76-fd76-47c8-afe0-32a39025794c"
      },
      "source": [
        "mylabels = ['0-19','20-99','100-499','500+']\n",
        "y = np.array([zero_19,twenty_99,Hundred_499,Five_Plus])\n",
        "plt.pie(y, labels = mylabels,autopct='%1.1f%%')\n",
        "plt.title(\"Revenue distribution across industries by sizes\")\n",
        "plt.show() "
      ],
      "execution_count": 68,
      "outputs": [
        {
          "output_type": "display_data",
          "data": {
            "image/png": "[encoded data removed]",
            "text/plain": [
              "<Figure size 432x288 with 1 Axes>"
            ]
          },
          "metadata": {}
        }
      ]
    },
    {
      "cell_type": "markdown",
      "metadata": {
        "id": "8ep6MNXLwvU3"
      },
      "source": [
        "#### MOST IMPORTANT CLIENTS"
      ]
    },
    {
      "cell_type": "code",
      "metadata": {
        "execution": {
          "iopub.status.busy": "2021-11-03T10:37:28.594396Z",
          "iopub.execute_input": "2021-11-03T10:37:28.594742Z",
          "iopub.status.idle": "2021-11-03T10:37:28.604398Z",
          "shell.execute_reply.started": "2021-11-03T10:37:28.594705Z",
          "shell.execute_reply": "2021-11-03T10:37:28.603459Z"
        },
        "trusted": true,
        "id": "D7jpLamWwvU3"
      },
      "source": [
        "df_clients = df.groupby('CLIENT_ID')['PRICE_DISC'].sum()\n"
      ],
      "execution_count": 69,
      "outputs": []
    },
    {
      "cell_type": "code",
      "metadata": {
        "execution": {
          "iopub.status.busy": "2021-11-03T10:37:39.153744Z",
          "iopub.execute_input": "2021-11-03T10:37:39.154395Z",
          "iopub.status.idle": "2021-11-03T10:37:39.165156Z",
          "shell.execute_reply.started": "2021-11-03T10:37:39.154362Z",
          "shell.execute_reply": "2021-11-03T10:37:39.163193Z"
        },
        "trusted": true,
        "colab": {
          "base_uri": "https://localhost:8080/"
        },
        "id": "0vjZ3qRzwvU3",
        "outputId": "3e9d6de4-5e2b-43f3-861f-7c2966c3b7ec"
      },
      "source": [
        "sorted_series = df_clients.sort_values(ascending\n",
        "                             = False)\n",
        "sorted_series"
      ],
      "execution_count": 70,
      "outputs": [
        {
          "output_type": "execute_result",
          "data": {
            "text/plain": [
              "CLIENT_ID\n",
              "2380477    941974.34\n",
              "4430288    901909.66\n",
              "4549709    818749.71\n",
              "7894067    745753.96\n",
              "9035649    738542.54\n",
              "             ...    \n",
              "3752619        57.95\n",
              "3726580        57.95\n",
              "6000834        57.34\n",
              "8657998        56.98\n",
              "8471471        56.00\n",
              "Name: PRICE_DISC, Length: 5793, dtype: float64"
            ]
          },
          "metadata": {},
          "execution_count": 70
        }
      ]
    },
    {
      "cell_type": "code",
      "metadata": {
        "execution": {
          "iopub.status.busy": "2021-11-03T01:04:08.094779Z",
          "iopub.execute_input": "2021-11-03T01:04:08.095089Z",
          "iopub.status.idle": "2021-11-03T01:04:08.099072Z",
          "shell.execute_reply.started": "2021-11-03T01:04:08.095056Z",
          "shell.execute_reply": "2021-11-03T01:04:08.098150Z"
        },
        "trusted": true,
        "id": "vr66frpmwvU3"
      },
      "source": [
        "#final_df = df.sort_values(by=['Discount_Percentage'], ascending=False)\n",
        "#df['Discount_Percentage'].value_counts()"
      ],
      "execution_count": 71,
      "outputs": []
    },
    {
      "cell_type": "code",
      "metadata": {
        "execution": {
          "iopub.status.busy": "2021-11-03T01:04:06.090144Z",
          "iopub.execute_input": "2021-11-03T01:04:06.090407Z",
          "iopub.status.idle": "2021-11-03T01:04:06.093621Z",
          "shell.execute_reply.started": "2021-11-03T01:04:06.090379Z",
          "shell.execute_reply": "2021-11-03T01:04:06.092680Z"
        },
        "trusted": true,
        "id": "8Ly1v5NpwvU3"
      },
      "source": [
        "#Disc_85 = df.loc[df['Discount_Percentage'] > 50, 'PRICE_DISC'].sum()\n",
        "#Disc_85"
      ],
      "execution_count": 72,
      "outputs": []
    },
    {
      "cell_type": "code",
      "metadata": {
        "execution": {
          "iopub.status.busy": "2021-11-03T01:04:04.137194Z",
          "iopub.execute_input": "2021-11-03T01:04:04.137630Z",
          "iopub.status.idle": "2021-11-03T01:04:04.140729Z",
          "shell.execute_reply.started": "2021-11-03T01:04:04.137598Z",
          "shell.execute_reply": "2021-11-03T01:04:04.139916Z"
        },
        "trusted": true,
        "id": "hOXq3HkAwvU3"
      },
      "source": [
        "#Disc_85 = df[(df['Discount_Percentage'] > 50) & (df['INDUSTRY'] == 'IT')]\n",
        "#Disc_85['PRICE_DISC'].sum()\n"
      ],
      "execution_count": 73,
      "outputs": []
    },
    {
      "cell_type": "markdown",
      "metadata": {
        "id": "2lH8HwjHwvU3"
      },
      "source": [
        "## Product wise analysis of revenue"
      ]
    },
    {
      "cell_type": "code",
      "metadata": {
        "execution": {
          "iopub.status.busy": "2021-11-02T21:57:03.321753Z",
          "iopub.execute_input": "2021-11-02T21:57:03.322043Z",
          "iopub.status.idle": "2021-11-02T21:57:03.338554Z",
          "shell.execute_reply.started": "2021-11-02T21:57:03.322013Z",
          "shell.execute_reply": "2021-11-02T21:57:03.337617Z"
        },
        "trusted": true,
        "colab": {
          "base_uri": "https://localhost:8080/"
        },
        "id": "opvnFFNcwvU3",
        "outputId": "ecc72e8d-658a-4d5f-dbd2-4aebb7e6eb26"
      },
      "source": [
        "df['PROD_CAT'].value_counts()"
      ],
      "execution_count": 74,
      "outputs": [
        {
          "output_type": "execute_result",
          "data": {
            "text/plain": [
              "SAAS    22542\n",
              "SW      21597\n",
              "HW      19735\n",
              "SS       1879\n",
              "Name: PROD_CAT, dtype: int64"
            ]
          },
          "metadata": {},
          "execution_count": 74
        }
      ]
    },
    {
      "cell_type": "code",
      "metadata": {
        "execution": {
          "iopub.status.busy": "2021-11-03T01:05:21.047026Z",
          "iopub.execute_input": "2021-11-03T01:05:21.047759Z",
          "iopub.status.idle": "2021-11-03T01:05:21.066407Z",
          "shell.execute_reply.started": "2021-11-03T01:05:21.047723Z",
          "shell.execute_reply": "2021-11-03T01:05:21.065322Z"
        },
        "trusted": true,
        "colab": {
          "base_uri": "https://localhost:8080/"
        },
        "id": "-pPE2KcCwvU3",
        "outputId": "cd8f8b61-b268-4dc6-9e35-b7332b8686d9"
      },
      "source": [
        "SAAS = df.loc[df['PROD_CAT'] == 'SAAS', 'PRICE_DISC'].sum()\n",
        "SAAS\n",
        "## 4 mill"
      ],
      "execution_count": 75,
      "outputs": [
        {
          "output_type": "execute_result",
          "data": {
            "text/plain": [
              "4368669.97"
            ]
          },
          "metadata": {},
          "execution_count": 75
        }
      ]
    },
    {
      "cell_type": "code",
      "metadata": {
        "execution": {
          "iopub.status.busy": "2021-11-03T01:05:23.327678Z",
          "iopub.execute_input": "2021-11-03T01:05:23.328284Z",
          "iopub.status.idle": "2021-11-03T01:05:23.347795Z",
          "shell.execute_reply.started": "2021-11-03T01:05:23.328233Z",
          "shell.execute_reply": "2021-11-03T01:05:23.346842Z"
        },
        "trusted": true,
        "colab": {
          "base_uri": "https://localhost:8080/"
        },
        "id": "uRIIHRC8wvU4",
        "outputId": "10207901-7124-4743-f405-2715f1a92e75"
      },
      "source": [
        "SW = df.loc[df['PROD_CAT'] == 'SW', 'PRICE_DISC'].sum()\n",
        "SW\n",
        "## 82 mill"
      ],
      "execution_count": 76,
      "outputs": [
        {
          "output_type": "execute_result",
          "data": {
            "text/plain": [
              "82537696.74000001"
            ]
          },
          "metadata": {},
          "execution_count": 76
        }
      ]
    },
    {
      "cell_type": "code",
      "metadata": {
        "execution": {
          "iopub.status.busy": "2021-11-03T01:05:25.428447Z",
          "iopub.execute_input": "2021-11-03T01:05:25.428716Z",
          "iopub.status.idle": "2021-11-03T01:05:25.448206Z",
          "shell.execute_reply.started": "2021-11-03T01:05:25.428687Z",
          "shell.execute_reply": "2021-11-03T01:05:25.447163Z"
        },
        "trusted": true,
        "colab": {
          "base_uri": "https://localhost:8080/"
        },
        "id": "rPP1ItRnwvU4",
        "outputId": "f06e55b5-ca36-4f03-8cc8-cfcab2d95b3d"
      },
      "source": [
        "HW = df.loc[df['PROD_CAT'] == 'HW', 'PRICE_DISC'].sum()\n",
        "HW\n",
        "## 462 mill"
      ],
      "execution_count": 77,
      "outputs": [
        {
          "output_type": "execute_result",
          "data": {
            "text/plain": [
              "466850007.28"
            ]
          },
          "metadata": {},
          "execution_count": 77
        }
      ]
    },
    {
      "cell_type": "code",
      "metadata": {
        "execution": {
          "iopub.status.busy": "2021-11-03T01:09:02.525879Z",
          "iopub.execute_input": "2021-11-03T01:09:02.526204Z",
          "iopub.status.idle": "2021-11-03T01:09:02.546122Z",
          "shell.execute_reply.started": "2021-11-03T01:09:02.526169Z",
          "shell.execute_reply": "2021-11-03T01:09:02.544995Z"
        },
        "trusted": true,
        "colab": {
          "base_uri": "https://localhost:8080/"
        },
        "id": "a4_3C8nlwvU4",
        "outputId": "1066074c-7e4d-488b-fb28-040828b2a596"
      },
      "source": [
        "SS = df.loc[df['PROD_CAT'] == 'SS', 'PRICE_DISC'].sum()\n",
        "SS\n",
        "# 8 mill"
      ],
      "execution_count": 78,
      "outputs": [
        {
          "output_type": "execute_result",
          "data": {
            "text/plain": [
              "8913760.459999999"
            ]
          },
          "metadata": {},
          "execution_count": 78
        }
      ]
    },
    {
      "cell_type": "code",
      "metadata": {
        "execution": {
          "iopub.status.busy": "2021-11-03T01:10:36.799263Z",
          "iopub.execute_input": "2021-11-03T01:10:36.799534Z",
          "iopub.status.idle": "2021-11-03T01:10:36.990030Z",
          "shell.execute_reply.started": "2021-11-03T01:10:36.799507Z",
          "shell.execute_reply": "2021-11-03T01:10:36.989198Z"
        },
        "trusted": true,
        "colab": {
          "base_uri": "https://localhost:8080/",
          "height": 352
        },
        "id": "S2zOCx1lwvU4",
        "outputId": "791db496-52c1-4593-b375-c486bb2630bb"
      },
      "source": [
        "\n",
        "\n",
        "\n",
        "import matplotlib.pyplot as plt\n",
        "fig = plt.figure()\n",
        "ax = fig.add_axes([0,0,1,1])\n",
        "x = ['SAAS','SW','HW','SS']\n",
        "y = np.array([SAAS,SW,HW,SS])\n",
        "ax.bar(x,y)\n",
        "plt.title(\"Revenue distribution across industries by products\")\n",
        "\n",
        "plt.show()"
      ],
      "execution_count": 79,
      "outputs": [
        {
          "output_type": "display_data",
          "data": {
            "image/png": "[encoded data removed]",
            "text/plain": [
              "<Figure size 432x288 with 1 Axes>"
            ]
          },
          "metadata": {
            "needs_background": "light"
          }
        }
      ]
    },
    {
      "cell_type": "markdown",
      "metadata": {
        "id": "FhFk9SGQwvU4"
      },
      "source": [
        "#### Clearly, HW is the the product that generates the maximum revenue i.e nearly 80%. Decreasing the discount percentage for this product will increase in revenue."
      ]
    },
    {
      "cell_type": "markdown",
      "metadata": {
        "id": "juoHnyuWwvU4"
      },
      "source": [
        "#### Let's check for the revenue generated by IT Industries from size 0-19 and for the product HW only."
      ]
    },
    {
      "cell_type": "code",
      "metadata": {
        "execution": {
          "iopub.status.busy": "2021-11-03T01:20:27.829401Z",
          "iopub.execute_input": "2021-11-03T01:20:27.829683Z",
          "iopub.status.idle": "2021-11-03T01:20:27.873528Z",
          "shell.execute_reply.started": "2021-11-03T01:20:27.829653Z",
          "shell.execute_reply": "2021-11-03T01:20:27.872505Z"
        },
        "trusted": true,
        "colab": {
          "base_uri": "https://localhost:8080/"
        },
        "id": "z48csaHZwvU4",
        "outputId": "182f91bd-71b6-488c-aded-216160f025c1"
      },
      "source": [
        "Club = df[(df['PROD_CAT'] == 'HW') & (df['INDUSTRY'] == 'IT') & (df['SIZE'] == '0-19')]\n",
        "Club['PRICE_DISC'].sum()\n",
        "\n",
        "## 99 million"
      ],
      "execution_count": 80,
      "outputs": [
        {
          "output_type": "execute_result",
          "data": {
            "text/plain": [
              "99239858.35"
            ]
          },
          "metadata": {},
          "execution_count": 80
        }
      ]
    },
    {
      "cell_type": "code",
      "metadata": {
        "id": "f5DjqgoVwvU4"
      },
      "source": [
        ""
      ],
      "execution_count": 80,
      "outputs": []
    },
    {
      "cell_type": "code",
      "metadata": {
        "id": "MUcG3UurwvU4"
      },
      "source": [
        ""
      ],
      "execution_count": 80,
      "outputs": []
    }
  ]
}