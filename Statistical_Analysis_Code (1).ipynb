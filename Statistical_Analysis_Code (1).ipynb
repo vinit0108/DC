{
  "nbformat": 4,
  "nbformat_minor": 0,
  "metadata": {
    "colab": {
      "name": "Statistical Analysis Code.ipynb",
      "provenance": []
    },
    "kernelspec": {
      "name": "ir",
      "display_name": "R"
    },
    "language_info": {
      "name": "R"
    }
  },
  "cells": [
    {
      "cell_type": "code",
      "metadata": {
        "id": "PkQKPJqRIKdM"
      },
      "source": [
        "df <- read.csv(\"/content/IBM - IBM_CAO_data_challenge_DS_2021_.csv\")\n"
      ],
      "execution_count": 12,
      "outputs": []
    },
    {
      "cell_type": "code",
      "metadata": {
        "colab": {
          "base_uri": "https://localhost:8080/",
          "height": 283
        },
        "id": "1zHd5GEQIR16",
        "outputId": "f2576675-ca8b-4132-e85b-bca38f7a06ea"
      },
      "source": [
        "head(df)"
      ],
      "execution_count": 13,
      "outputs": [
        {
          "output_type": "display_data",
          "data": {
            "text/plain": [
              "  ORDER_ID    PROD_ID PROD_CAT PRICE_ORIG PRICE_DISC CLIENT_ID INDUSTRY SIZE \n",
              "1 DS100049976 77563   SW       6882       3303.36    9228913   IT       20-99\n",
              "2 DS100049976 19692   SW       4744       2277.12    9228913   IT       20-99\n",
              "3 DS100049976 51090   SW       7725       3708.00    9228913   IT       20-99\n",
              "4 DS100049976 94654   SAAS      138         66.24    9228913   IT       20-99\n",
              "5 DS100049976 77969   SAAS       96         46.08    9228913   IT       20-99\n",
              "6 DS100049976 25795   SW       5598       2687.04    9228913   IT       20-99\n",
              "  STATE\n",
              "1 NY   \n",
              "2 NY   \n",
              "3 NY   \n",
              "4 NY   \n",
              "5 NY   \n",
              "6 NY   "
            ],
            "text/latex": "A data.frame: 6 × 9\n\\begin{tabular}{r|lllllllll}\n  & ORDER\\_ID & PROD\\_ID & PROD\\_CAT & PRICE\\_ORIG & PRICE\\_DISC & CLIENT\\_ID & INDUSTRY & SIZE & STATE\\\\\n  & <chr> & <int> & <chr> & <int> & <dbl> & <int> & <chr> & <chr> & <chr>\\\\\n\\hline\n\t1 & DS100049976 & 77563 & SW   & 6882 & 3303.36 & 9228913 & IT & 20-99 & NY\\\\\n\t2 & DS100049976 & 19692 & SW   & 4744 & 2277.12 & 9228913 & IT & 20-99 & NY\\\\\n\t3 & DS100049976 & 51090 & SW   & 7725 & 3708.00 & 9228913 & IT & 20-99 & NY\\\\\n\t4 & DS100049976 & 94654 & SAAS &  138 &   66.24 & 9228913 & IT & 20-99 & NY\\\\\n\t5 & DS100049976 & 77969 & SAAS &   96 &   46.08 & 9228913 & IT & 20-99 & NY\\\\\n\t6 & DS100049976 & 25795 & SW   & 5598 & 2687.04 & 9228913 & IT & 20-99 & NY\\\\\n\\end{tabular}\n",
            "text/markdown": "\nA data.frame: 6 × 9\n\n| <!--/--> | ORDER_ID &lt;chr&gt; | PROD_ID &lt;int&gt; | PROD_CAT &lt;chr&gt; | PRICE_ORIG &lt;int&gt; | PRICE_DISC &lt;dbl&gt; | CLIENT_ID &lt;int&gt; | INDUSTRY &lt;chr&gt; | SIZE &lt;chr&gt; | STATE &lt;chr&gt; |\n|---|---|---|---|---|---|---|---|---|---|\n| 1 | DS100049976 | 77563 | SW   | 6882 | 3303.36 | 9228913 | IT | 20-99 | NY |\n| 2 | DS100049976 | 19692 | SW   | 4744 | 2277.12 | 9228913 | IT | 20-99 | NY |\n| 3 | DS100049976 | 51090 | SW   | 7725 | 3708.00 | 9228913 | IT | 20-99 | NY |\n| 4 | DS100049976 | 94654 | SAAS |  138 |   66.24 | 9228913 | IT | 20-99 | NY |\n| 5 | DS100049976 | 77969 | SAAS |   96 |   46.08 | 9228913 | IT | 20-99 | NY |\n| 6 | DS100049976 | 25795 | SW   | 5598 | 2687.04 | 9228913 | IT | 20-99 | NY |\n\n",
            "text/html": [
              "<table class=\"dataframe\">\n",
              "<caption>A data.frame: 6 × 9</caption>\n",
              "<thead>\n",
              "\t<tr><th></th><th scope=col>ORDER_ID</th><th scope=col>PROD_ID</th><th scope=col>PROD_CAT</th><th scope=col>PRICE_ORIG</th><th scope=col>PRICE_DISC</th><th scope=col>CLIENT_ID</th><th scope=col>INDUSTRY</th><th scope=col>SIZE</th><th scope=col>STATE</th></tr>\n",
              "\t<tr><th></th><th scope=col>&lt;chr&gt;</th><th scope=col>&lt;int&gt;</th><th scope=col>&lt;chr&gt;</th><th scope=col>&lt;int&gt;</th><th scope=col>&lt;dbl&gt;</th><th scope=col>&lt;int&gt;</th><th scope=col>&lt;chr&gt;</th><th scope=col>&lt;chr&gt;</th><th scope=col>&lt;chr&gt;</th></tr>\n",
              "</thead>\n",
              "<tbody>\n",
              "\t<tr><th scope=row>1</th><td>DS100049976</td><td>77563</td><td>SW  </td><td>6882</td><td>3303.36</td><td>9228913</td><td>IT</td><td>20-99</td><td>NY</td></tr>\n",
              "\t<tr><th scope=row>2</th><td>DS100049976</td><td>19692</td><td>SW  </td><td>4744</td><td>2277.12</td><td>9228913</td><td>IT</td><td>20-99</td><td>NY</td></tr>\n",
              "\t<tr><th scope=row>3</th><td>DS100049976</td><td>51090</td><td>SW  </td><td>7725</td><td>3708.00</td><td>9228913</td><td>IT</td><td>20-99</td><td>NY</td></tr>\n",
              "\t<tr><th scope=row>4</th><td>DS100049976</td><td>94654</td><td>SAAS</td><td> 138</td><td>  66.24</td><td>9228913</td><td>IT</td><td>20-99</td><td>NY</td></tr>\n",
              "\t<tr><th scope=row>5</th><td>DS100049976</td><td>77969</td><td>SAAS</td><td>  96</td><td>  46.08</td><td>9228913</td><td>IT</td><td>20-99</td><td>NY</td></tr>\n",
              "\t<tr><th scope=row>6</th><td>DS100049976</td><td>25795</td><td>SW  </td><td>5598</td><td>2687.04</td><td>9228913</td><td>IT</td><td>20-99</td><td>NY</td></tr>\n",
              "</tbody>\n",
              "</table>\n"
            ]
          },
          "metadata": {}
        }
      ]
    },
    {
      "cell_type": "code",
      "metadata": {
        "id": "__ZZxE7qKE-d"
      },
      "source": [
        "df['Discount_Percentage'] = ((df['PRICE_ORIG'] - df['PRICE_DISC'])/ df['PRICE_ORIG']) * 100\n",
        "\n",
        "## calculating discount percentage"
      ],
      "execution_count": 14,
      "outputs": []
    },
    {
      "cell_type": "code",
      "metadata": {
        "id": "QLFs7dctl2Iu"
      },
      "source": [
        "install.packages(\"superml\")\n",
        "\n",
        "library(\"superml\")\n"
      ],
      "execution_count": null,
      "outputs": []
    },
    {
      "cell_type": "code",
      "metadata": {
        "id": "78CJP2H9K5h0"
      },
      "source": [
        "## converting the Categorical column into numerical columns\n",
        "label <- LabelEncoder$new()\n",
        "df$PROD_CAT <- label$fit_transform(df$PROD_CAT)\n"
      ],
      "execution_count": 16,
      "outputs": []
    },
    {
      "cell_type": "code",
      "metadata": {
        "id": "LFyvToOdl72X"
      },
      "source": [
        "install.packages(\"jtools\")\n",
        "library(\"jtools\")\n"
      ],
      "execution_count": null,
      "outputs": []
    },
    {
      "cell_type": "code",
      "metadata": {
        "id": "s8hy-QcoLa2V"
      },
      "source": [
        "df$INDUSTRY <- label$fit_transform(df$INDUSTRY)\n",
        "df$SIZE <- label$fit_transform(df$SIZE)\n",
        "df$STATE <- label$fit_transform(df$STATE)\n"
      ],
      "execution_count": 17,
      "outputs": []
    },
    {
      "cell_type": "code",
      "metadata": {
        "id": "vzXVtw_eLdF7"
      },
      "source": [
        "head(df)"
      ],
      "execution_count": null,
      "outputs": []
    },
    {
      "cell_type": "code",
      "metadata": {
        "id": "b9QM5gXNIR4B"
      },
      "source": [
        "lmOut = lm(\tDiscount_Percentage ~ PROD_ID + PROD_CAT + CLIENT_ID + INDUSTRY + SIZE + STATE, data = df)\n",
        "## building a linear model and passsing the predictor and predicted columns"
      ],
      "execution_count": 19,
      "outputs": []
    },
    {
      "cell_type": "code",
      "metadata": {
        "colab": {
          "base_uri": "https://localhost:8080/",
          "height": 425
        },
        "id": "fqbg0_1SIR6M",
        "outputId": "8c81ee8c-a412-44c6-ba6c-4a1adebf7dfd"
      },
      "source": [
        "summary(lmOut)\n"
      ],
      "execution_count": 20,
      "outputs": [
        {
          "output_type": "display_data",
          "data": {
            "text/plain": [
              "\n",
              "Call:\n",
              "lm(formula = Discount_Percentage ~ PROD_ID + PROD_CAT + CLIENT_ID + \n",
              "    INDUSTRY + SIZE + STATE, data = df)\n",
              "\n",
              "Residuals:\n",
              "   Min     1Q Median     3Q    Max \n",
              "-41.67 -18.66  -3.65  15.83  55.45 \n",
              "\n",
              "Coefficients:\n",
              "              Estimate Std. Error t value Pr(>|t|)    \n",
              "(Intercept)  4.000e+01  3.499e-01 114.304  < 2e-16 ***\n",
              "PROD_ID      1.288e-05  3.212e-06   4.009 6.10e-05 ***\n",
              "PROD_CAT     2.787e-01  1.048e-01   2.659  0.00784 ** \n",
              "CLIENT_ID   -1.777e-07  3.484e-08  -5.100 3.41e-07 ***\n",
              "INDUSTRY    -4.393e+00  6.278e-02 -69.982  < 2e-16 ***\n",
              "SIZE        -1.924e+00  1.056e-01 -18.217  < 2e-16 ***\n",
              "STATE        3.080e-02  2.014e-02   1.529  0.12616    \n",
              "---\n",
              "Signif. codes:  0 ‘***’ 0.001 ‘**’ 0.01 ‘*’ 0.05 ‘.’ 0.1 ‘ ’ 1\n",
              "\n",
              "Residual standard error: 23.09 on 65746 degrees of freedom\n",
              "Multiple R-squared:  0.07833,\tAdjusted R-squared:  0.07824 \n",
              "F-statistic: 931.2 on 6 and 65746 DF,  p-value: < 2.2e-16\n"
            ]
          },
          "metadata": {}
        }
      ]
    },
    {
      "cell_type": "markdown",
      "metadata": {
        "id": "BgVlEWmxpL8C"
      },
      "source": [
        "### The above results clearly explain that, Prod_id, Prod_Cat, Client_id, Industry, Size and state are the key drivers for discount percentage. The adjusted R2 is 0.8 and P value is < 0.005 which means that the results obtained are statistically significant and not by chance"
      ]
    },
    {
      "cell_type": "markdown",
      "metadata": {
        "id": "BRSEK4lqpsx4"
      },
      "source": [
        "##### Now let's check individual drivers for discount"
      ]
    },
    {
      "cell_type": "code",
      "metadata": {
        "colab": {
          "base_uri": "https://localhost:8080/",
          "height": 323
        },
        "id": "y_NBqA4aIR8Q",
        "outputId": "2a5e7b48-319b-4ea3-8a4f-ffc16d0726bf"
      },
      "source": [
        "lmOut = lm(Discount_Percentage ~ PROD_ID, data = df)\n",
        "## building a linear model and passsing the predictor and predicted columns\n",
        "summary(lmOut)\n"
      ],
      "execution_count": 21,
      "outputs": [
        {
          "output_type": "display_data",
          "data": {
            "text/plain": [
              "\n",
              "Call:\n",
              "lm(formula = Discount_Percentage ~ PROD_ID, data = df)\n",
              "\n",
              "Residuals:\n",
              "    Min      1Q  Median      3Q     Max \n",
              "-33.007 -20.069  -4.806  15.510  53.122 \n",
              "\n",
              "Coefficients:\n",
              "             Estimate Std. Error t value Pr(>|t|)    \n",
              "(Intercept) 3.174e+01  2.192e-01 144.809  < 2e-16 ***\n",
              "PROD_ID     1.268e-05  3.335e-06   3.802 0.000144 ***\n",
              "---\n",
              "Signif. codes:  0 ‘***’ 0.001 ‘**’ 0.01 ‘*’ 0.05 ‘.’ 0.1 ‘ ’ 1\n",
              "\n",
              "Residual standard error: 24.04 on 65751 degrees of freedom\n",
              "Multiple R-squared:  0.0002198,\tAdjusted R-squared:  0.0002046 \n",
              "F-statistic: 14.46 on 1 and 65751 DF,  p-value: 0.0001435\n"
            ]
          },
          "metadata": {}
        }
      ]
    },
    {
      "cell_type": "markdown",
      "metadata": {
        "id": "EpBPKUlkpyaf"
      },
      "source": [
        "R squared value is very low and P value is also 0.0001\n",
        "This means that Prod_id and Discount_percentage are slighly correlated"
      ]
    },
    {
      "cell_type": "code",
      "metadata": {
        "colab": {
          "base_uri": "https://localhost:8080/",
          "height": 323
        },
        "id": "Sbs0FIXBIR-E",
        "outputId": "5085a1ba-46c3-467a-cd6d-7867ace3a5be"
      },
      "source": [
        "lmOut = lm(Discount_Percentage ~ PROD_CAT, data = df)\n",
        "## building a linear model and passsing the predictor and predicted columns\n",
        "summary(lmOut)\n"
      ],
      "execution_count": 22,
      "outputs": [
        {
          "output_type": "display_data",
          "data": {
            "text/plain": [
              "\n",
              "Call:\n",
              "lm(formula = Discount_Percentage ~ PROD_CAT, data = df)\n",
              "\n",
              "Residuals:\n",
              "    Min      1Q  Median      3Q     Max \n",
              "-32.894 -20.286  -4.692  15.511  52.714 \n",
              "\n",
              "Coefficients:\n",
              "            Estimate Std. Error t value Pr(>|t|)    \n",
              "(Intercept)  32.2863     0.1461 221.031   <2e-16 ***\n",
              "PROD_CAT      0.2027     0.1089   1.862   0.0626 .  \n",
              "---\n",
              "Signif. codes:  0 ‘***’ 0.001 ‘**’ 0.01 ‘*’ 0.05 ‘.’ 0.1 ‘ ’ 1\n",
              "\n",
              "Residual standard error: 24.05 on 65751 degrees of freedom\n",
              "Multiple R-squared:  5.273e-05,\tAdjusted R-squared:  3.753e-05 \n",
              "F-statistic: 3.468 on 1 and 65751 DF,  p-value: 0.06259\n"
            ]
          },
          "metadata": {}
        }
      ]
    },
    {
      "cell_type": "markdown",
      "metadata": {
        "id": "Nx5E6BtcqHyC"
      },
      "source": [
        "R squared value is very low and P value is not less than 0.005 This means that Prod_Cat and Discount_percentage are not correlated\n",
        "\n"
      ]
    },
    {
      "cell_type": "code",
      "metadata": {
        "colab": {
          "base_uri": "https://localhost:8080/",
          "height": 323
        },
        "id": "mgp0uTc-MKBB",
        "outputId": "a2582006-4bc4-418f-809d-30c41e733583"
      },
      "source": [
        "lmOut = lm(Discount_Percentage ~ CLIENT_ID, data = df)\n",
        "## building a linear model and passsing the predictor and predicted columns\n",
        "summary(lmOut)\n"
      ],
      "execution_count": 23,
      "outputs": [
        {
          "output_type": "display_data",
          "data": {
            "text/plain": [
              "\n",
              "Call:\n",
              "lm(formula = Discount_Percentage ~ CLIENT_ID, data = df)\n",
              "\n",
              "Residuals:\n",
              "    Min      1Q  Median      3Q     Max \n",
              "-33.239 -20.115  -4.858  15.556  53.241 \n",
              "\n",
              "Coefficients:\n",
              "              Estimate Std. Error t value Pr(>|t|)    \n",
              "(Intercept)  3.341e+01  2.211e-01 151.074  < 2e-16 ***\n",
              "CLIENT_ID   -1.651e-07  3.627e-08  -4.553  5.3e-06 ***\n",
              "---\n",
              "Signif. codes:  0 ‘***’ 0.001 ‘**’ 0.01 ‘*’ 0.05 ‘.’ 0.1 ‘ ’ 1\n",
              "\n",
              "Residual standard error: 24.04 on 65751 degrees of freedom\n",
              "Multiple R-squared:  0.0003152,\tAdjusted R-squared:  0.0003 \n",
              "F-statistic: 20.73 on 1 and 65751 DF,  p-value: 5.298e-06\n"
            ]
          },
          "metadata": {}
        }
      ]
    },
    {
      "cell_type": "markdown",
      "metadata": {
        "id": "kzDnnzm5qS93"
      },
      "source": [
        "R squared value is very low and P value is also 0.0001 This means that Client_id and Discount_percentage are slighly correlated"
      ]
    },
    {
      "cell_type": "code",
      "metadata": {
        "colab": {
          "base_uri": "https://localhost:8080/",
          "height": 323
        },
        "id": "ofxdDXh3MKDO",
        "outputId": "f5a341b4-ac3a-47e6-c38c-e0ba463bef89"
      },
      "source": [
        "lmOut = lm(Discount_Percentage ~ INDUSTRY, data = df)\n",
        "## building a linear model and passsing the predictor and predicted columns\n",
        "summary(lmOut)\n"
      ],
      "execution_count": 24,
      "outputs": [
        {
          "output_type": "display_data",
          "data": {
            "text/plain": [
              "\n",
              "Call:\n",
              "lm(formula = Discount_Percentage ~ INDUSTRY, data = df)\n",
              "\n",
              "Residuals:\n",
              "    Min      1Q  Median      3Q     Max \n",
              "-38.379 -18.379  -3.379  15.621  53.638 \n",
              "\n",
              "Coefficients:\n",
              "            Estimate Std. Error t value Pr(>|t|)    \n",
              "(Intercept) 38.37890    0.12182  315.04   <2e-16 ***\n",
              "INDUSTRY    -4.50415    0.06261  -71.94   <2e-16 ***\n",
              "---\n",
              "Signif. codes:  0 ‘***’ 0.001 ‘**’ 0.01 ‘*’ 0.05 ‘.’ 0.1 ‘ ’ 1\n",
              "\n",
              "Residual standard error: 23.15 on 65751 degrees of freedom\n",
              "Multiple R-squared:  0.07298,\tAdjusted R-squared:  0.07296 \n",
              "F-statistic:  5176 on 1 and 65751 DF,  p-value: < 2.2e-16\n"
            ]
          },
          "metadata": {}
        }
      ]
    },
    {
      "cell_type": "markdown",
      "metadata": {
        "id": "QvhZ4FSPqZWo"
      },
      "source": [
        "R squared value is high and P value is also 0.0001 This means that INDUSTRY and Discount_percentage are highly correlated"
      ]
    },
    {
      "cell_type": "code",
      "metadata": {
        "colab": {
          "base_uri": "https://localhost:8080/",
          "height": 323
        },
        "id": "e8HGB5SmMREv",
        "outputId": "baa467f5-9987-4d06-a806-4d73101d2de0"
      },
      "source": [
        "lmOut = lm(Discount_Percentage ~ SIZE, data = df)\n",
        "## building a linear model and passsing the predictor and predicted columns\n",
        "summary(lmOut)\n"
      ],
      "execution_count": 25,
      "outputs": [
        {
          "output_type": "display_data",
          "data": {
            "text/plain": [
              "\n",
              "Call:\n",
              "lm(formula = Discount_Percentage ~ SIZE, data = df)\n",
              "\n",
              "Residuals:\n",
              "    Min      1Q  Median      3Q     Max \n",
              "-35.303 -19.967  -4.635  15.365  57.700 \n",
              "\n",
              "Coefficients:\n",
              "            Estimate Std. Error t value Pr(>|t|)    \n",
              "(Intercept)  35.3030     0.1479  238.76   <2e-16 ***\n",
              "SIZE         -2.6678     0.1089  -24.49   <2e-16 ***\n",
              "---\n",
              "Signif. codes:  0 ‘***’ 0.001 ‘**’ 0.01 ‘*’ 0.05 ‘.’ 0.1 ‘ ’ 1\n",
              "\n",
              "Residual standard error: 23.94 on 65751 degrees of freedom\n",
              "Multiple R-squared:  0.00904,\tAdjusted R-squared:  0.009025 \n",
              "F-statistic: 599.8 on 1 and 65751 DF,  p-value: < 2.2e-16\n"
            ]
          },
          "metadata": {}
        }
      ]
    },
    {
      "cell_type": "markdown",
      "metadata": {
        "id": "xwlMHWdoqjfU"
      },
      "source": [
        "R squared value is very low and P value is less than 0.05 This means that SIZE and Discount_percentage are slighly correlated"
      ]
    },
    {
      "cell_type": "code",
      "metadata": {
        "colab": {
          "base_uri": "https://localhost:8080/",
          "height": 323
        },
        "id": "BckUEjJ5MRGm",
        "outputId": "dcf2bf38-c335-4188-b237-07383e26e19c"
      },
      "source": [
        "lmOut = lm(Discount_Percentage ~ STATE, data = df)\n",
        "## building a linear model and passsing the predictor and predicted columns\n",
        "summary(lmOut)\n"
      ],
      "execution_count": 26,
      "outputs": [
        {
          "output_type": "display_data",
          "data": {
            "text/plain": [
              "\n",
              "Call:\n",
              "lm(formula = Discount_Percentage ~ STATE, data = df)\n",
              "\n",
              "Residuals:\n",
              "    Min      1Q  Median      3Q     Max \n",
              "-32.540 -20.467  -4.504  15.511  52.569 \n",
              "\n",
              "Coefficients:\n",
              "             Estimate Std. Error t value Pr(>|t|)    \n",
              "(Intercept) 32.540133   0.160523 202.714   <2e-16 ***\n",
              "STATE       -0.007284   0.020966  -0.347    0.728    \n",
              "---\n",
              "Signif. codes:  0 ‘***’ 0.001 ‘**’ 0.01 ‘*’ 0.05 ‘.’ 0.1 ‘ ’ 1\n",
              "\n",
              "Residual standard error: 24.05 on 65751 degrees of freedom\n",
              "Multiple R-squared:  1.836e-06,\tAdjusted R-squared:  -1.337e-05 \n",
              "F-statistic: 0.1207 on 1 and 65751 DF,  p-value: 0.7283\n"
            ]
          },
          "metadata": {}
        }
      ]
    },
    {
      "cell_type": "markdown",
      "metadata": {
        "id": "lMb8xnXSqrNA"
      },
      "source": [
        "R squared value is very low and P value not less than 0.05 This means that Prod_id and Discount_percentage are not correlated"
      ]
    }
  ]
}